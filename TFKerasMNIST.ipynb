{
 "cells": [
  {
   "cell_type": "code",
   "execution_count": 1,
   "metadata": {},
   "outputs": [
    {
     "name": "stderr",
     "output_type": "stream",
     "text": [
      "2023-06-10 15:58:05.949609: I tensorflow/tsl/cuda/cudart_stub.cc:28] Could not find cuda drivers on your machine, GPU will not be used.\n",
      "2023-06-10 15:58:06.679386: I tensorflow/tsl/cuda/cudart_stub.cc:28] Could not find cuda drivers on your machine, GPU will not be used.\n",
      "2023-06-10 15:58:06.683462: I tensorflow/core/platform/cpu_feature_guard.cc:182] This TensorFlow binary is optimized to use available CPU instructions in performance-critical operations.\n",
      "To enable the following instructions: AVX2 FMA, in other operations, rebuild TensorFlow with the appropriate compiler flags.\n",
      "2023-06-10 15:58:14.235271: W tensorflow/compiler/tf2tensorrt/utils/py_utils.cc:38] TF-TRT Warning: Could not find TensorRT\n"
     ]
    }
   ],
   "source": [
    "import tensorflow as tf"
   ]
  },
  {
   "cell_type": "code",
   "execution_count": 3,
   "metadata": {},
   "outputs": [],
   "source": [
    "import tensorflow_datasets"
   ]
  },
  {
   "cell_type": "code",
   "execution_count": 18,
   "metadata": {},
   "outputs": [],
   "source": [
    "(train, test), info = tensorflow_datasets.load('mnist', split=['train', 'test'], as_supervised=True, with_info=True)"
   ]
  },
  {
   "cell_type": "code",
   "execution_count": 19,
   "metadata": {},
   "outputs": [
    {
     "data": {
      "text/plain": [
       "<_PrefetchDataset element_spec=(TensorSpec(shape=(28, 28, 1), dtype=tf.uint8, name=None), TensorSpec(shape=(), dtype=tf.int64, name=None))>"
      ]
     },
     "execution_count": 19,
     "metadata": {},
     "output_type": "execute_result"
    }
   ],
   "source": [
    "train"
   ]
  },
  {
   "cell_type": "code",
   "execution_count": 20,
   "metadata": {},
   "outputs": [
    {
     "data": {
      "text/plain": [
       "<_MapDataset element_spec=(TensorSpec(shape=(28, 28, 1), dtype=tf.float32, name=None), TensorSpec(shape=(), dtype=tf.int64, name=None))>"
      ]
     },
     "execution_count": 20,
     "metadata": {},
     "output_type": "execute_result"
    }
   ],
   "source": [
    "def normalize(image, label):\n",
    "    return tf.cast(image, tf.float32) / 256, label\n",
    "\n",
    "train = train.map(normalize)\n",
    "train"
   ]
  },
  {
   "cell_type": "code",
   "execution_count": 21,
   "metadata": {},
   "outputs": [],
   "source": [
    "train = train.cache()\n",
    "# کل دیتا را توی رم میاورد"
   ]
  },
  {
   "cell_type": "code",
   "execution_count": 22,
   "metadata": {},
   "outputs": [
    {
     "data": {
      "text/plain": [
       "60000"
      ]
     },
     "execution_count": 22,
     "metadata": {},
     "output_type": "execute_result"
    }
   ],
   "source": [
    "len(train)"
   ]
  },
  {
   "cell_type": "code",
   "execution_count": 23,
   "metadata": {},
   "outputs": [
    {
     "data": {
      "text/plain": [
       "<SplitInfo num_examples=60000, num_shards=1>"
      ]
     },
     "execution_count": 23,
     "metadata": {},
     "output_type": "execute_result"
    }
   ],
   "source": [
    "info.splits['train']"
   ]
  },
  {
   "cell_type": "code",
   "execution_count": 24,
   "metadata": {},
   "outputs": [],
   "source": [
    "train = train.shuffle(info.splits['train'].num_examples)"
   ]
  },
  {
   "cell_type": "code",
   "execution_count": 25,
   "metadata": {},
   "outputs": [],
   "source": [
    "train = train.batch(256)"
   ]
  },
  {
   "cell_type": "code",
   "execution_count": 11,
   "metadata": {},
   "outputs": [],
   "source": [
    "train = train.prefetch(tf.data.experimental.AUTOTUNE)"
   ]
  },
  {
   "cell_type": "code",
   "execution_count": 12,
   "metadata": {},
   "outputs": [
    {
     "data": {
      "text/plain": [
       "<_PrefetchDataset element_spec=(TensorSpec(shape=(None, 28, 28, 1), dtype=tf.float32, name=None), TensorSpec(shape=(None,), dtype=tf.int64, name=None))>"
      ]
     },
     "execution_count": 12,
     "metadata": {},
     "output_type": "execute_result"
    }
   ],
   "source": [
    "train"
   ]
  },
  {
   "cell_type": "code",
   "execution_count": 13,
   "metadata": {},
   "outputs": [
    {
     "data": {
      "text/plain": [
       "<_MapDataset element_spec=(TensorSpec(shape=(28, 28, 1), dtype=tf.float32, name=None), TensorSpec(shape=(), dtype=tf.int64, name=None))>"
      ]
     },
     "execution_count": 13,
     "metadata": {},
     "output_type": "execute_result"
    }
   ],
   "source": [
    "test = test.map(normalize)\n",
    "test"
   ]
  },
  {
   "cell_type": "code",
   "execution_count": 14,
   "metadata": {},
   "outputs": [],
   "source": [
    "test = test.batch(256)"
   ]
  },
  {
   "cell_type": "code",
   "execution_count": 15,
   "metadata": {},
   "outputs": [],
   "source": [
    "test = test.cache()\n",
    "test = test.prefetch(tf.data.experimental.AUTOTUNE)"
   ]
  },
  {
   "cell_type": "code",
   "execution_count": 22,
   "metadata": {},
   "outputs": [],
   "source": [
    "model = tf.keras.models.Sequential([\n",
    "    tf.keras.layers.Flatten(input_shape=(28, 28)), # preprossenig \n",
    "    tf.keras.layers.Dense(100, activation='relu'),  #layer 1 : Dense --> Fully connected\n",
    "    # tf.keras.layers.Dense(10, activation='sigmoid')  #layer 2\n",
    "    tf.keras.layers.Dense(10, activation='softmax')  #layer 2\n",
    "])"
   ]
  },
  {
   "cell_type": "code",
   "execution_count": 17,
   "metadata": {},
   "outputs": [],
   "source": [
    "model.compile(optimizer=tf.keras.optimizers.Adam(0.001), loss=tf.keras.losses.SparseCategoricalCrossentropy(from_logits=True), metrics=[tf.keras.metrics.SparseCategoricalAccuracy()])"
   ]
  },
  {
   "cell_type": "code",
   "execution_count": 19,
   "metadata": {},
   "outputs": [
    {
     "name": "stdout",
     "output_type": "stream",
     "text": [
      "Epoch 1/50\n",
      "235/235 [==============================] - 1s 4ms/step - loss: 0.0510 - sparse_categorical_accuracy: 0.9858 - val_loss: 0.0828 - val_sparse_categorical_accuracy: 0.9758\n",
      "Epoch 2/50\n",
      "235/235 [==============================] - 1s 3ms/step - loss: 0.0462 - sparse_categorical_accuracy: 0.9870 - val_loss: 0.0821 - val_sparse_categorical_accuracy: 0.9761\n",
      "Epoch 3/50\n",
      "235/235 [==============================] - 1s 3ms/step - loss: 0.0414 - sparse_categorical_accuracy: 0.9888 - val_loss: 0.0793 - val_sparse_categorical_accuracy: 0.9758\n",
      "Epoch 4/50\n",
      "235/235 [==============================] - 1s 3ms/step - loss: 0.0376 - sparse_categorical_accuracy: 0.9898 - val_loss: 0.0793 - val_sparse_categorical_accuracy: 0.9767\n",
      "Epoch 5/50\n",
      "235/235 [==============================] - 1s 3ms/step - loss: 0.0336 - sparse_categorical_accuracy: 0.9909 - val_loss: 0.0774 - val_sparse_categorical_accuracy: 0.9766\n",
      "Epoch 6/50\n",
      "235/235 [==============================] - 1s 3ms/step - loss: 0.0303 - sparse_categorical_accuracy: 0.9923 - val_loss: 0.0761 - val_sparse_categorical_accuracy: 0.9779\n",
      "Epoch 7/50\n",
      "235/235 [==============================] - 1s 3ms/step - loss: 0.0275 - sparse_categorical_accuracy: 0.9931 - val_loss: 0.0786 - val_sparse_categorical_accuracy: 0.9771\n",
      "Epoch 8/50\n",
      "235/235 [==============================] - 1s 3ms/step - loss: 0.0251 - sparse_categorical_accuracy: 0.9939 - val_loss: 0.0779 - val_sparse_categorical_accuracy: 0.9762\n",
      "Epoch 9/50\n",
      "235/235 [==============================] - 1s 3ms/step - loss: 0.0222 - sparse_categorical_accuracy: 0.9948 - val_loss: 0.0782 - val_sparse_categorical_accuracy: 0.9779\n",
      "Epoch 10/50\n",
      "235/235 [==============================] - 1s 3ms/step - loss: 0.0202 - sparse_categorical_accuracy: 0.9956 - val_loss: 0.0792 - val_sparse_categorical_accuracy: 0.9768\n",
      "Epoch 11/50\n",
      "235/235 [==============================] - 1s 3ms/step - loss: 0.0183 - sparse_categorical_accuracy: 0.9960 - val_loss: 0.0786 - val_sparse_categorical_accuracy: 0.9771\n",
      "Epoch 12/50\n",
      "235/235 [==============================] - 1s 3ms/step - loss: 0.0160 - sparse_categorical_accuracy: 0.9972 - val_loss: 0.0820 - val_sparse_categorical_accuracy: 0.9758\n",
      "Epoch 13/50\n",
      "235/235 [==============================] - 1s 3ms/step - loss: 0.0147 - sparse_categorical_accuracy: 0.9971 - val_loss: 0.0812 - val_sparse_categorical_accuracy: 0.9773\n",
      "Epoch 14/50\n",
      "235/235 [==============================] - 1s 3ms/step - loss: 0.0132 - sparse_categorical_accuracy: 0.9977 - val_loss: 0.0793 - val_sparse_categorical_accuracy: 0.9783\n",
      "Epoch 15/50\n",
      "235/235 [==============================] - 1s 3ms/step - loss: 0.0124 - sparse_categorical_accuracy: 0.9980 - val_loss: 0.0797 - val_sparse_categorical_accuracy: 0.9774\n",
      "Epoch 16/50\n",
      "235/235 [==============================] - 1s 3ms/step - loss: 0.0109 - sparse_categorical_accuracy: 0.9983 - val_loss: 0.0806 - val_sparse_categorical_accuracy: 0.9778\n",
      "Epoch 17/50\n",
      "235/235 [==============================] - 1s 4ms/step - loss: 0.0099 - sparse_categorical_accuracy: 0.9985 - val_loss: 0.0817 - val_sparse_categorical_accuracy: 0.9780\n",
      "Epoch 18/50\n",
      "235/235 [==============================] - 1s 4ms/step - loss: 0.0086 - sparse_categorical_accuracy: 0.9989 - val_loss: 0.0851 - val_sparse_categorical_accuracy: 0.9763\n",
      "Epoch 19/50\n",
      "235/235 [==============================] - 1s 4ms/step - loss: 0.0076 - sparse_categorical_accuracy: 0.9991 - val_loss: 0.0846 - val_sparse_categorical_accuracy: 0.9781\n",
      "Epoch 20/50\n",
      "235/235 [==============================] - 1s 3ms/step - loss: 0.0073 - sparse_categorical_accuracy: 0.9990 - val_loss: 0.0892 - val_sparse_categorical_accuracy: 0.9761\n",
      "Epoch 21/50\n",
      "235/235 [==============================] - 1s 3ms/step - loss: 0.0063 - sparse_categorical_accuracy: 0.9994 - val_loss: 0.0881 - val_sparse_categorical_accuracy: 0.9772\n",
      "Epoch 22/50\n",
      "235/235 [==============================] - 1s 3ms/step - loss: 0.0058 - sparse_categorical_accuracy: 0.9995 - val_loss: 0.0846 - val_sparse_categorical_accuracy: 0.9780\n",
      "Epoch 23/50\n",
      "235/235 [==============================] - 1s 3ms/step - loss: 0.0050 - sparse_categorical_accuracy: 0.9997 - val_loss: 0.0871 - val_sparse_categorical_accuracy: 0.9782\n",
      "Epoch 24/50\n",
      "235/235 [==============================] - 1s 3ms/step - loss: 0.0047 - sparse_categorical_accuracy: 0.9996 - val_loss: 0.0915 - val_sparse_categorical_accuracy: 0.9778\n",
      "Epoch 25/50\n",
      "235/235 [==============================] - 1s 3ms/step - loss: 0.0048 - sparse_categorical_accuracy: 0.9996 - val_loss: 0.0887 - val_sparse_categorical_accuracy: 0.9776\n",
      "Epoch 26/50\n",
      "235/235 [==============================] - 1s 3ms/step - loss: 0.0038 - sparse_categorical_accuracy: 0.9998 - val_loss: 0.0872 - val_sparse_categorical_accuracy: 0.9776\n",
      "Epoch 27/50\n",
      "235/235 [==============================] - 1s 3ms/step - loss: 0.0034 - sparse_categorical_accuracy: 0.9998 - val_loss: 0.0939 - val_sparse_categorical_accuracy: 0.9769\n",
      "Epoch 28/50\n",
      "235/235 [==============================] - 1s 3ms/step - loss: 0.0034 - sparse_categorical_accuracy: 0.9997 - val_loss: 0.0970 - val_sparse_categorical_accuracy: 0.9785\n",
      "Epoch 29/50\n",
      "235/235 [==============================] - 1s 4ms/step - loss: 0.0036 - sparse_categorical_accuracy: 0.9997 - val_loss: 0.0948 - val_sparse_categorical_accuracy: 0.9779\n",
      "Epoch 30/50\n",
      "235/235 [==============================] - 1s 4ms/step - loss: 0.0030 - sparse_categorical_accuracy: 0.9998 - val_loss: 0.0917 - val_sparse_categorical_accuracy: 0.9785\n",
      "Epoch 31/50\n",
      "235/235 [==============================] - 1s 3ms/step - loss: 0.0021 - sparse_categorical_accuracy: 1.0000 - val_loss: 0.0940 - val_sparse_categorical_accuracy: 0.9791\n",
      "Epoch 32/50\n",
      "235/235 [==============================] - 1s 3ms/step - loss: 0.0018 - sparse_categorical_accuracy: 1.0000 - val_loss: 0.0958 - val_sparse_categorical_accuracy: 0.9787\n",
      "Epoch 33/50\n",
      "235/235 [==============================] - 1s 4ms/step - loss: 0.0016 - sparse_categorical_accuracy: 1.0000 - val_loss: 0.0974 - val_sparse_categorical_accuracy: 0.9782\n",
      "Epoch 34/50\n",
      "235/235 [==============================] - 1s 4ms/step - loss: 0.0014 - sparse_categorical_accuracy: 1.0000 - val_loss: 0.0978 - val_sparse_categorical_accuracy: 0.9785\n",
      "Epoch 35/50\n",
      "235/235 [==============================] - 1s 4ms/step - loss: 0.0013 - sparse_categorical_accuracy: 1.0000 - val_loss: 0.0969 - val_sparse_categorical_accuracy: 0.9782\n",
      "Epoch 36/50\n",
      "235/235 [==============================] - 1s 3ms/step - loss: 0.0012 - sparse_categorical_accuracy: 1.0000 - val_loss: 0.0993 - val_sparse_categorical_accuracy: 0.9774\n",
      "Epoch 37/50\n",
      "235/235 [==============================] - 1s 3ms/step - loss: 0.0022 - sparse_categorical_accuracy: 0.9996 - val_loss: 0.1548 - val_sparse_categorical_accuracy: 0.9684\n",
      "Epoch 38/50\n",
      "235/235 [==============================] - 1s 3ms/step - loss: 0.0117 - sparse_categorical_accuracy: 0.9965 - val_loss: 0.1052 - val_sparse_categorical_accuracy: 0.9769\n",
      "Epoch 39/50\n",
      "235/235 [==============================] - 1s 3ms/step - loss: 0.0020 - sparse_categorical_accuracy: 0.9998 - val_loss: 0.1037 - val_sparse_categorical_accuracy: 0.9774\n",
      "Epoch 40/50\n",
      "235/235 [==============================] - 1s 3ms/step - loss: 9.9082e-04 - sparse_categorical_accuracy: 1.0000 - val_loss: 0.1033 - val_sparse_categorical_accuracy: 0.9777\n",
      "Epoch 41/50\n",
      "235/235 [==============================] - 1s 3ms/step - loss: 8.1732e-04 - sparse_categorical_accuracy: 1.0000 - val_loss: 0.1042 - val_sparse_categorical_accuracy: 0.9779\n",
      "Epoch 42/50\n",
      "235/235 [==============================] - 1s 3ms/step - loss: 7.0906e-04 - sparse_categorical_accuracy: 1.0000 - val_loss: 0.1048 - val_sparse_categorical_accuracy: 0.9785\n",
      "Epoch 43/50\n",
      "235/235 [==============================] - 1s 3ms/step - loss: 6.5985e-04 - sparse_categorical_accuracy: 1.0000 - val_loss: 0.1052 - val_sparse_categorical_accuracy: 0.9778\n",
      "Epoch 44/50\n",
      "235/235 [==============================] - 1s 3ms/step - loss: 5.9224e-04 - sparse_categorical_accuracy: 1.0000 - val_loss: 0.1043 - val_sparse_categorical_accuracy: 0.9787\n",
      "Epoch 45/50\n",
      "235/235 [==============================] - 1s 3ms/step - loss: 5.6395e-04 - sparse_categorical_accuracy: 1.0000 - val_loss: 0.1065 - val_sparse_categorical_accuracy: 0.9784\n",
      "Epoch 46/50\n",
      "235/235 [==============================] - 1s 3ms/step - loss: 5.3847e-04 - sparse_categorical_accuracy: 1.0000 - val_loss: 0.1068 - val_sparse_categorical_accuracy: 0.9781\n",
      "Epoch 47/50\n",
      "235/235 [==============================] - 1s 3ms/step - loss: 5.0683e-04 - sparse_categorical_accuracy: 1.0000 - val_loss: 0.1074 - val_sparse_categorical_accuracy: 0.9778\n",
      "Epoch 48/50\n",
      "235/235 [==============================] - 1s 3ms/step - loss: 5.0610e-04 - sparse_categorical_accuracy: 1.0000 - val_loss: 0.1079 - val_sparse_categorical_accuracy: 0.9784\n",
      "Epoch 49/50\n",
      "235/235 [==============================] - 1s 3ms/step - loss: 4.5204e-04 - sparse_categorical_accuracy: 1.0000 - val_loss: 0.1096 - val_sparse_categorical_accuracy: 0.9782\n",
      "Epoch 50/50\n",
      "235/235 [==============================] - 1s 3ms/step - loss: 4.1853e-04 - sparse_categorical_accuracy: 1.0000 - val_loss: 0.1105 - val_sparse_categorical_accuracy: 0.9782\n"
     ]
    },
    {
     "data": {
      "text/plain": [
       "<keras.callbacks.History at 0x7fbac02ad190>"
      ]
     },
     "execution_count": 19,
     "metadata": {},
     "output_type": "execute_result"
    }
   ],
   "source": [
    "model.fit(train, epochs=50, validation_data=test)"
   ]
  },
  {
   "cell_type": "code",
   "execution_count": 31,
   "metadata": {},
   "outputs": [],
   "source": [
    "model2 = tf.keras.models.Sequential([\n",
    "    tf.keras.layers.Flatten(input_shape=(28, 28)), # preprossenig \n",
    "    tf.keras.layers.Dense(200, activation='relu'),  #layer 1 : Dense --> Fully connected\n",
    "    tf.keras.layers.Dense(60, activation='relu'),  #layer 1 : Dense --> Fully connected\n",
    "    # tf.keras.layers.Dense(10, activation='sigmoid')  #layer 2\n",
    "    tf.keras.layers.Dense(10, activation='softmax')  #layer 2\n",
    "])"
   ]
  },
  {
   "cell_type": "code",
   "execution_count": 32,
   "metadata": {},
   "outputs": [],
   "source": [
    "model2.compile(optimizer=tf.keras.optimizers.Adam(0.001), loss=tf.keras.losses.SparseCategoricalCrossentropy(from_logits=True), metrics=[tf.keras.metrics.SparseCategoricalAccuracy()])"
   ]
  },
  {
   "cell_type": "code",
   "execution_count": 33,
   "metadata": {},
   "outputs": [
    {
     "name": "stdout",
     "output_type": "stream",
     "text": [
      "Epoch 1/20\n"
     ]
    },
    {
     "name": "stderr",
     "output_type": "stream",
     "text": [
      "/home/behnam/anaconda3/lib/python3.9/site-packages/keras/backend.py:5612: UserWarning: \"`sparse_categorical_crossentropy` received `from_logits=True`, but the `output` argument was produced by a Softmax activation and thus does not represent logits. Was this intended?\n",
      "  output, from_logits = _get_logits(\n"
     ]
    },
    {
     "name": "stdout",
     "output_type": "stream",
     "text": [
      "235/235 [==============================] - 2s 5ms/step - loss: 0.3821 - sparse_categorical_accuracy: 0.8934 - val_loss: 0.1778 - val_sparse_categorical_accuracy: 0.9462\n",
      "Epoch 2/20\n",
      "235/235 [==============================] - 1s 4ms/step - loss: 0.1469 - sparse_categorical_accuracy: 0.9571 - val_loss: 0.1215 - val_sparse_categorical_accuracy: 0.9625\n",
      "Epoch 3/20\n",
      "235/235 [==============================] - 1s 5ms/step - loss: 0.1017 - sparse_categorical_accuracy: 0.9706 - val_loss: 0.0967 - val_sparse_categorical_accuracy: 0.9690\n",
      "Epoch 4/20\n",
      "235/235 [==============================] - 1s 5ms/step - loss: 0.0770 - sparse_categorical_accuracy: 0.9769 - val_loss: 0.0924 - val_sparse_categorical_accuracy: 0.9705\n",
      "Epoch 5/20\n",
      "235/235 [==============================] - 1s 4ms/step - loss: 0.0599 - sparse_categorical_accuracy: 0.9824 - val_loss: 0.0810 - val_sparse_categorical_accuracy: 0.9743\n",
      "Epoch 6/20\n",
      "235/235 [==============================] - 1s 4ms/step - loss: 0.0481 - sparse_categorical_accuracy: 0.9860 - val_loss: 0.0781 - val_sparse_categorical_accuracy: 0.9762\n",
      "Epoch 7/20\n",
      "235/235 [==============================] - 1s 5ms/step - loss: 0.0392 - sparse_categorical_accuracy: 0.9883 - val_loss: 0.0712 - val_sparse_categorical_accuracy: 0.9786\n",
      "Epoch 8/20\n",
      "235/235 [==============================] - 1s 4ms/step - loss: 0.0329 - sparse_categorical_accuracy: 0.9903 - val_loss: 0.0666 - val_sparse_categorical_accuracy: 0.9808\n",
      "Epoch 9/20\n",
      "235/235 [==============================] - 1s 4ms/step - loss: 0.0263 - sparse_categorical_accuracy: 0.9921 - val_loss: 0.0861 - val_sparse_categorical_accuracy: 0.9747\n",
      "Epoch 10/20\n",
      "235/235 [==============================] - 1s 5ms/step - loss: 0.0206 - sparse_categorical_accuracy: 0.9943 - val_loss: 0.0685 - val_sparse_categorical_accuracy: 0.9801\n",
      "Epoch 11/20\n",
      "235/235 [==============================] - 1s 5ms/step - loss: 0.0195 - sparse_categorical_accuracy: 0.9945 - val_loss: 0.0689 - val_sparse_categorical_accuracy: 0.9803\n",
      "Epoch 12/20\n",
      "235/235 [==============================] - 1s 5ms/step - loss: 0.0142 - sparse_categorical_accuracy: 0.9959 - val_loss: 0.0754 - val_sparse_categorical_accuracy: 0.9790\n",
      "Epoch 13/20\n",
      "235/235 [==============================] - 1s 5ms/step - loss: 0.0129 - sparse_categorical_accuracy: 0.9967 - val_loss: 0.0740 - val_sparse_categorical_accuracy: 0.9803\n",
      "Epoch 14/20\n",
      "235/235 [==============================] - 1s 5ms/step - loss: 0.0111 - sparse_categorical_accuracy: 0.9970 - val_loss: 0.0763 - val_sparse_categorical_accuracy: 0.9789\n",
      "Epoch 15/20\n",
      "235/235 [==============================] - 1s 5ms/step - loss: 0.0090 - sparse_categorical_accuracy: 0.9975 - val_loss: 0.0860 - val_sparse_categorical_accuracy: 0.9783\n",
      "Epoch 16/20\n",
      "235/235 [==============================] - 1s 5ms/step - loss: 0.0084 - sparse_categorical_accuracy: 0.9977 - val_loss: 0.0789 - val_sparse_categorical_accuracy: 0.9799\n",
      "Epoch 17/20\n",
      "235/235 [==============================] - 1s 5ms/step - loss: 0.0062 - sparse_categorical_accuracy: 0.9986 - val_loss: 0.0830 - val_sparse_categorical_accuracy: 0.9795\n",
      "Epoch 18/20\n",
      "235/235 [==============================] - 1s 5ms/step - loss: 0.0043 - sparse_categorical_accuracy: 0.9992 - val_loss: 0.0821 - val_sparse_categorical_accuracy: 0.9798\n",
      "Epoch 19/20\n",
      "235/235 [==============================] - 1s 4ms/step - loss: 0.0082 - sparse_categorical_accuracy: 0.9974 - val_loss: 0.0934 - val_sparse_categorical_accuracy: 0.9780\n",
      "Epoch 20/20\n",
      "235/235 [==============================] - 1s 5ms/step - loss: 0.0101 - sparse_categorical_accuracy: 0.9967 - val_loss: 0.0933 - val_sparse_categorical_accuracy: 0.9767\n"
     ]
    },
    {
     "data": {
      "text/plain": [
       "<keras.callbacks.History at 0x7fbab817c550>"
      ]
     },
     "execution_count": 33,
     "metadata": {},
     "output_type": "execute_result"
    }
   ],
   "source": [
    "model2.fit(train, epochs=20, validation_data=test)"
   ]
  }
 ],
 "metadata": {
  "kernelspec": {
   "display_name": "Python 3",
   "language": "python",
   "name": "python3"
  },
  "language_info": {
   "codemirror_mode": {
    "name": "ipython",
    "version": 3
   },
   "file_extension": ".py",
   "mimetype": "text/x-python",
   "name": "python",
   "nbconvert_exporter": "python",
   "pygments_lexer": "ipython3",
   "version": "3.9.12"
  }
 },
 "nbformat": 4,
 "nbformat_minor": 4
}
